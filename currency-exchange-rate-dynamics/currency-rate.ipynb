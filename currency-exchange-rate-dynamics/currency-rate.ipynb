{
 "cells": [
  {
   "cell_type": "code",
   "execution_count": 1,
   "metadata": {},
   "outputs": [],
   "source": [
    "import pandas as pd\n",
    "import requests\n",
    "from bs4 import BeautifulSoup\n",
    "from datetime import datetime\n",
    "from time import sleep"
   ]
  },
  {
   "cell_type": "code",
   "execution_count": 2,
   "metadata": {},
   "outputs": [],
   "source": [
    "url = 'https://cbr.ru/currency_base/dynamics/'\n",
    "response = requests.get(url)\n",
    "soup = BeautifulSoup(response.text, 'lxml')\n",
    "\n",
    "df_codes = pd.DataFrame(columns=['code', 'currency'])\n",
    "\n",
    "for i in soup.select('option'):\n",
    "    string = str(i).split()\n",
    "    if 'selected=\"\"' in string:\n",
    "        row = {'code': string[2].strip('value=\">'), 'currency': ' '.join(string[3:-1])}\n",
    "        df_codes.loc[len(df_codes)] = row\n",
    "    else:\n",
    "        row = {'code': string[1].strip('value=\">'), 'currency': ' '.join(string[2:-1])}\n",
    "        df_codes.loc[len(df_codes)] = row"
   ]
  },
  {
   "cell_type": "code",
   "execution_count": 3,
   "metadata": {},
   "outputs": [],
   "source": [
    "current_date = datetime.now().strftime('%d.%m.%Y') # today is 2023-05-11\n",
    "\n",
    "df = pd.DataFrame(columns=['date', 'rate', 'code'])\n",
    "\n",
    "for cur in df_codes['code']:\n",
    "    url_rate = f'https://cbr.ru/currency_base/dynamics/?UniDbQuery.Posted=True&UniDbQuery.so=1&UniDbQuery.mode=1&UniDbQuery.date_req1=&UniDbQuery.date_req2=&UniDbQuery.VAL_NM_RQ={cur}&UniDbQuery.From=01.01.1992&UniDbQuery.To={current_date}'\n",
    "    response_rate = requests.get(url_rate)\n",
    "    sleep(2)\n",
    "    soup_rate = BeautifulSoup(response_rate.text, 'lxml')\n",
    "\n",
    "    for i in soup_rate.select_one('.data'):\n",
    "        string = str(i).split()\n",
    "        if string != [] and all(['colspan=\"3\">' not in string, 'class=\"pseudo\"' not in string]):\n",
    "            row = {'date': string[1].strip('<td>/'), 'rate': float(string[3].strip('<td>/').replace(',', '.')) / float(string[2].strip('<td>/').replace(',', '.')), 'code': cur}\n",
    "            df.loc[len(df)] = row"
   ]
  },
  {
   "cell_type": "code",
   "execution_count": 4,
   "metadata": {},
   "outputs": [
    {
     "data": {
      "text/html": [
       "<div>\n",
       "<style scoped>\n",
       "    .dataframe tbody tr th:only-of-type {\n",
       "        vertical-align: middle;\n",
       "    }\n",
       "\n",
       "    .dataframe tbody tr th {\n",
       "        vertical-align: top;\n",
       "    }\n",
       "\n",
       "    .dataframe thead th {\n",
       "        text-align: right;\n",
       "    }\n",
       "</style>\n",
       "<table border=\"1\" class=\"dataframe\">\n",
       "  <thead>\n",
       "    <tr style=\"text-align: right;\">\n",
       "      <th></th>\n",
       "      <th>date</th>\n",
       "      <th>rate</th>\n",
       "      <th>code</th>\n",
       "      <th>currency</th>\n",
       "    </tr>\n",
       "  </thead>\n",
       "  <tbody>\n",
       "    <tr>\n",
       "      <th>0</th>\n",
       "      <td>01.01.1997</td>\n",
       "      <td>4.0000</td>\n",
       "      <td>R01010</td>\n",
       "      <td>Австралийский доллар</td>\n",
       "    </tr>\n",
       "    <tr>\n",
       "      <th>1</th>\n",
       "      <td>01.01.1998</td>\n",
       "      <td>3.9127</td>\n",
       "      <td>R01010</td>\n",
       "      <td>Австралийский доллар</td>\n",
       "    </tr>\n",
       "    <tr>\n",
       "      <th>2</th>\n",
       "      <td>01.01.1999</td>\n",
       "      <td>12.6600</td>\n",
       "      <td>R01010</td>\n",
       "      <td>Австралийский доллар</td>\n",
       "    </tr>\n",
       "    <tr>\n",
       "      <th>3</th>\n",
       "      <td>01.01.2000</td>\n",
       "      <td>17.6300</td>\n",
       "      <td>R01010</td>\n",
       "      <td>Австралийский доллар</td>\n",
       "    </tr>\n",
       "    <tr>\n",
       "      <th>4</th>\n",
       "      <td>01.01.2002</td>\n",
       "      <td>15.2946</td>\n",
       "      <td>R01010</td>\n",
       "      <td>Австралийский доллар</td>\n",
       "    </tr>\n",
       "  </tbody>\n",
       "</table>\n",
       "</div>"
      ],
      "text/plain": [
       "         date     rate    code              currency\n",
       "0  01.01.1997   4.0000  R01010  Австралийский доллар\n",
       "1  01.01.1998   3.9127  R01010  Австралийский доллар\n",
       "2  01.01.1999  12.6600  R01010  Австралийский доллар\n",
       "3  01.01.2000  17.6300  R01010  Австралийский доллар\n",
       "4  01.01.2002  15.2946  R01010  Австралийский доллар"
      ]
     },
     "execution_count": 4,
     "metadata": {},
     "output_type": "execute_result"
    }
   ],
   "source": [
    "t = df.merge(df_codes).sort_values(by=['code', 'date']).reset_index(drop=True)\n",
    "t.head()"
   ]
  },
  {
   "cell_type": "code",
   "execution_count": 5,
   "metadata": {},
   "outputs": [],
   "source": [
    "t.to_csv('current_rate.csv', index=False, sep=',')"
   ]
  }
 ],
 "metadata": {
  "kernelspec": {
   "display_name": "Python 3",
   "language": "python",
   "name": "python3"
  },
  "language_info": {
   "codemirror_mode": {
    "name": "ipython",
    "version": 3
   },
   "file_extension": ".py",
   "mimetype": "text/x-python",
   "name": "python",
   "nbconvert_exporter": "python",
   "pygments_lexer": "ipython3",
   "version": "3.11.0"
  },
  "orig_nbformat": 4
 },
 "nbformat": 4,
 "nbformat_minor": 2
}
